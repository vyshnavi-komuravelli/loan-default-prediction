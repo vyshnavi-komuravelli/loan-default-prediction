{
 "cells": [
  {
   "cell_type": "code",
   "execution_count": 1,
   "id": "e7ef634f",
   "metadata": {},
   "outputs": [],
   "source": [
    "import sys\n",
    "import os\n",
    "sys.path.insert(0, os.path.abspath(\"..\"))\n",
    "from src.customer_analysis import preprocessing1,training,final_model1,score\n",
    "import numpy as np\n",
    "import pandas as pd"
   ]
  },
  {
   "cell_type": "code",
   "execution_count": 2,
   "id": "a0b3bf66",
   "metadata": {},
   "outputs": [],
   "source": [
    "from pathlib import Path\n",
    "BASE_DIR = Path('.').resolve().parent.parent"
   ]
  },
  {
   "cell_type": "code",
   "execution_count": 3,
   "id": "c191eaac",
   "metadata": {},
   "outputs": [],
   "source": [
    "car_type=pd.read_csv(BASE_DIR/\"data\"/\"Car_Type.csv\")\n",
    "caov2=pd.read_csv(BASE_DIR/\"data\"/\"close_and_open_version.csv\")"
   ]
  },
  {
   "cell_type": "code",
   "execution_count": 6,
   "id": "89e1d3e3",
   "metadata": {},
   "outputs": [
    {
     "name": "stderr",
     "output_type": "stream",
     "text": [
      "cleaning of the dataset started\n",
      "cleaning was completed\n",
      "imputation was started\n",
      "imputation was ended\n",
      "outlier treatment was started\n",
      "outlier treatment was ended\n",
      "encoding was started\n",
      "encoding was ended\n"
     ]
    }
   ],
   "source": [
    "open1 = caov2[caov2[\"Next_Qtr_Account_Status\"].isnull()]\n",
    "open1=open1[open1['Qtr_Account_Status']=='OPEN']\n",
    "closed = caov2[caov2[\"Next_Qtr_Account_Status\"].notnull()]\n",
    "\n",
    "train_set,test_set=preprocessing1(closed,open1,car_type)"
   ]
  },
  {
   "cell_type": "code",
   "execution_count": 10,
   "id": "31b973f0",
   "metadata": {},
   "outputs": [],
   "source": [
    "ypred,yproba=training(train_set,test_set)"
   ]
  },
  {
   "cell_type": "code",
   "execution_count": 11,
   "id": "422fd64a",
   "metadata": {},
   "outputs": [
    {
     "data": {
      "text/plain": [
       "array([0, 0, 0, ..., 0, 0, 1], dtype=int64)"
      ]
     },
     "execution_count": 11,
     "metadata": {},
     "output_type": "execute_result"
    }
   ],
   "source": [
    "ypred"
   ]
  },
  {
   "cell_type": "code",
   "execution_count": 13,
   "id": "afc8656c",
   "metadata": {},
   "outputs": [],
   "source": [
    "test_set['new_account_status']=ypred"
   ]
  },
  {
   "cell_type": "code",
   "execution_count": null,
   "id": "2e64635b",
   "metadata": {},
   "outputs": [],
   "source": []
  },
  {
   "cell_type": "code",
   "execution_count": null,
   "id": "bb4a217e",
   "metadata": {},
   "outputs": [],
   "source": []
  },
  {
   "cell_type": "code",
   "execution_count": null,
   "id": "13b8e3cb",
   "metadata": {},
   "outputs": [],
   "source": []
  }
 ],
 "metadata": {
  "kernelspec": {
   "display_name": "Python 3",
   "language": "python",
   "name": "python3"
  },
  "language_info": {
   "codemirror_mode": {
    "name": "ipython",
    "version": 3
   },
   "file_extension": ".py",
   "mimetype": "text/x-python",
   "name": "python",
   "nbconvert_exporter": "python",
   "pygments_lexer": "ipython3",
   "version": "3.10.5"
  },
  "vscode": {
   "interpreter": {
    "hash": "8f605c7ece8ce06de4a016e8f9b60426ec38ee0e488148716c700068b7568b58"
   }
  }
 },
 "nbformat": 4,
 "nbformat_minor": 5
}
